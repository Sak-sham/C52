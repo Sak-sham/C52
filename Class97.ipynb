{
  "nbformat": 4,
  "nbformat_minor": 0,
  "metadata": {
    "colab": {
      "provenance": [],
      "authorship_tag": "ABX9TyMJ55mtMshfH/3MEoMNGz2C",
      "include_colab_link": true
    },
    "kernelspec": {
      "name": "python3",
      "display_name": "Python 3"
    },
    "language_info": {
      "name": "python"
    }
  },
  "cells": [
    {
      "cell_type": "markdown",
      "metadata": {
        "id": "view-in-github",
        "colab_type": "text"
      },
      "source": [
        "<a href=\"https://colab.research.google.com/github/Sak-sham/C52/blob/main/Class97.ipynb\" target=\"_parent\"><img src=\"https://colab.research.google.com/assets/colab-badge.svg\" alt=\"Open In Colab\"/></a>"
      ]
    },
    {
      "cell_type": "code",
      "execution_count": 4,
      "metadata": {
        "colab": {
          "base_uri": "https://localhost:8080/"
        },
        "id": "rYTolGr2HVYj",
        "outputId": "c971f842-7f9e-4a65-ee94-7c7ef0ee7112"
      },
      "outputs": [
        {
          "output_type": "stream",
          "name": "stdout",
          "text": [
            "Choose an operation from below:\n",
            "Number 1:add\n",
            "Number 2:subtract\n",
            "Enter option number(1/2):1\n",
            "enter first number1.5\n",
            "enter second number1.9\n",
            "1.5 + 1.9 = 3.4\n"
          ]
        }
      ],
      "source": [
        "def calculate (option):\n",
        "  if (option=='1' or option=='2'):\n",
        "    num1=float(input(\"enter first number\"))\n",
        "    num2=float(input(\"enter second number\"))\n",
        "\n",
        "  if option=='1':\n",
        "    print(num1,\"+\",num2,\"=\",add(num1,num2))\n",
        "\n",
        "  if option=='2':\n",
        "    print(num1,\"-\",num2,\"=\",subtract(num1,num2))\n",
        "\n",
        "\n",
        "def add (x,y):\n",
        "  return x+y\n",
        "\n",
        "def subtract (x,y):\n",
        "  return x-y\n",
        "\n",
        "print(\"Choose an operation from below:\")\n",
        "print(\"Number 1:add\")\n",
        "print(\"Number 2:subtract\")\n",
        "option=input(\"Enter option number(1/2):\")\n",
        "\n",
        "calculate(option)"
      ]
    }
  ]
}